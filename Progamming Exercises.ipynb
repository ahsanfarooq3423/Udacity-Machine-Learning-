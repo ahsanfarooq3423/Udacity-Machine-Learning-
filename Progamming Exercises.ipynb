{
 "cells": [
  {
   "cell_type": "markdown",
   "metadata": {},
   "source": [
    "## Counting the Number of most occuring words"
   ]
  },
  {
   "cell_type": "code",
   "execution_count": 65,
   "metadata": {},
   "outputs": [],
   "source": [
    "def count_words(s,n):\n",
    "    import operator\n",
    "    words = s.split()\n",
    "    set_words = list(set(words))\n",
    "    \n",
    "    num_words = []\n",
    "    for i in range(len(set_words)):\n",
    "        num_words.append(0)\n",
    "    \n",
    "    for i in range(len(set_words)):\n",
    "        for j in range(len(words)):\n",
    "            if set_words[i] == words[j]:\n",
    "                num_words[i] += 1\n",
    "    \n",
    "    no_occurences = {}\n",
    "    for i in range(len(set_words)):\n",
    "        no_occurences[set_words[i]] = num_words[i]\n",
    "    \n",
    "    sorted_x = sorted(no_occurences.items(), key=operator.itemgetter(1))\n",
    "    \n",
    "    for i in range(1,n):\n",
    "        print(sorted_x[-i])\n",
    "    "
   ]
  },
  {
   "cell_type": "code",
   "execution_count": 66,
   "metadata": {
    "scrolled": true
   },
   "outputs": [],
   "source": [
    "string = '''In computing, plain text is a loose term for data (e.g. file contents) that represent only characters of readable material but not its graphical representation nor other objects (floating-point numbers, images, etc.). It may also include a limited number of characters that control simple arrangement of text, such as spaces, line breaks, or tabulation characters (although tab characters can \"mean\" many different things, so are hardly \"plain\"). Plain text is different from formatted text, where style information is included; from structured text, where structural parts of the document such as paragraphs, sections, and the like are identified); and from binary files in which some portions must be interpreted as binary objects (encoded integers, real numbers, images, etc.).\n",
    "\n",
    "The term is sometimes used quite loosely, to mean files that contain only \"readable\" content (or just files with nothing that the speaker doesn't prefer). For example, that could exclude any indication of fonts or layout (such as markup, markdown, or even tabs); characters such as curly quotes, non-breaking spaces, soft hyphens, em dashes, and/or ligatures; or other things.\n",
    "\n",
    "In principle, plain text can be in any encoding, but occasionally the term is taken to imply ASCII. As Unicode-based encodings such as UTF-8 and UTF-16 become more common, that usage may be shrinking.\n",
    "\n",
    "plain text is also sometimes used only to exclude \"binary\" files: those in which at least some parts of the file cannot be correctly interpreted via the character encoding in effect. For example, a file or string consisting of \"hello\" (in whatever encoding), following by 4 bytes that express a binary integer that is not just a character, is a binary file, not plain text by even the loosest common usages. Put another way, translating a plain text file to a character encoding that uses entirely different number to represent characters, does not change the meaning (so long as you know what encoding is in use), but for binary files such a conversion does change the meaning of at least some parts of the file.'''"
   ]
  },
  {
   "cell_type": "code",
   "execution_count": 67,
   "metadata": {},
   "outputs": [
    {
     "name": "stdout",
     "output_type": "stream",
     "text": [
      "('the', 10)\n",
      "('a', 9)\n",
      "('that', 9)\n",
      "('of', 9)\n",
      "('is', 9)\n",
      "('as', 7)\n",
      "('text', 6)\n",
      "('to', 5)\n",
      "('plain', 5)\n"
     ]
    }
   ],
   "source": [
    "count_words(string,10)"
   ]
  },
  {
   "cell_type": "code",
   "execution_count": null,
   "metadata": {},
   "outputs": [],
   "source": []
  }
 ],
 "metadata": {
  "kernelspec": {
   "display_name": "Python 3",
   "language": "python",
   "name": "python3"
  },
  "language_info": {
   "codemirror_mode": {
    "name": "ipython",
    "version": 3
   },
   "file_extension": ".py",
   "mimetype": "text/x-python",
   "name": "python",
   "nbconvert_exporter": "python",
   "pygments_lexer": "ipython3",
   "version": "3.7.3"
  }
 },
 "nbformat": 4,
 "nbformat_minor": 2
}
